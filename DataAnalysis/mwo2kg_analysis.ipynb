{
 "cells": [
  {
   "cell_type": "markdown",
   "metadata": {},
   "source": [
    "## Import packages and Load Data"
   ]
  },
  {
   "cell_type": "code",
   "execution_count": 1,
   "metadata": {},
   "outputs": [],
   "source": [
    "import csv\n",
    "\n",
    "def load_data(file_path):\n",
    "    data = []\n",
    "    with open(file_path, 'r', encoding='utf-8') as file:\n",
    "        lines = file.readlines()\n",
    "        for line in lines:\n",
    "            data.append((line.split(',')[0], line.split(',')[1].strip()))\n",
    "    return data\n",
    "\n",
    "train = load_data('../data/FMC-MWO2KG/train.txt')\n",
    "test = load_data('../data/FMC-MWO2KG/test.txt')\n",
    "val = load_data('../data/FMC-MWO2KG/dev.txt')\n",
    "data = train + test + val"
   ]
  },
  {
   "cell_type": "code",
   "execution_count": 2,
   "metadata": {},
   "outputs": [],
   "source": [
    "# Get the failure mode codes from the lines of the file\n",
    "def get_codes(lines):\n",
    "    \"\"\" Get the failure mode codes from the lines of the file. \"\"\"\n",
    "    failure_mode_codes = {}\n",
    "    for line in lines:\n",
    "        event, code = line[0], line[1]\n",
    "        if code not in failure_mode_codes:\n",
    "            failure_mode_codes[code] = 1\n",
    "        else:\n",
    "            failure_mode_codes[code] += 1\n",
    "    # Order the failure mode codes by the number of occurrences\n",
    "    failure_mode_codes = dict(sorted(failure_mode_codes.items(), key=lambda item: item[1], reverse=True))\n",
    "    return failure_mode_codes\n",
    "\n",
    "# Show the failure mode codes from the lines of the file\n",
    "def show_codes(lines):\n",
    "    \"\"\" Show the failure mode codes from the lines of the file. \"\"\"\n",
    "    codes = get_codes(lines)\n",
    "    total = 0\n",
    "    for key, value in codes.items():\n",
    "        print(\"{:<30} {}\".format(key, value))\n",
    "        total += value\n",
    "    print(\"Total:\", total)"
   ]
  },
  {
   "cell_type": "code",
   "execution_count": 3,
   "metadata": {},
   "outputs": [],
   "source": [
    "# FMC-MWO2KG raw dataset analysis and alignment\n",
    "def raw_mwo2kg_analysis(obs_data):\n",
    "    \"\"\" Analyse the raw data from the MWO2KG dataset. \"\"\"\n",
    "    with open('../data/FMC-MWO2KG/raw.csv', 'r', encoding='utf-8') as file:\n",
    "        reader = csv.reader(file)\n",
    "        lines = list(reader)\n",
    "\n",
    "    raw_data = []\n",
    "    for line in lines:\n",
    "        if line[2] != \"Not an observation\":\n",
    "            full = line[3].split(\"   \")[0].replace('\"', '')\n",
    "            raw_data.append((full, line[2]))\n",
    "\n",
    "    aligned_data = []\n",
    "    for d in obs_data:\n",
    "        for r in raw_data:\n",
    "            if d[0] in r[0] and d[1] == r[1] and r not in aligned_data:\n",
    "                aligned_data.append(r)\n",
    "\n",
    "    # Aligns the full mwo sentences to its failure mode based on its labelled observations\n",
    "    print(f\"Aligned Data: {len(aligned_data)}\")\n",
    "    with open('../data/FMC-MWO2KG/aligned.txt', 'w', newline='', encoding='utf-8') as file:\n",
    "        writer = csv.writer(file)\n",
    "        writer.writerows(aligned_data)"
   ]
  },
  {
   "cell_type": "markdown",
   "metadata": {},
   "source": [
    "## FMC-MWO2KG Dataset Analysis"
   ]
  },
  {
   "cell_type": "code",
   "execution_count": 4,
   "metadata": {},
   "outputs": [
    {
     "name": "stdout",
     "output_type": "stream",
     "text": [
      "Minor in-service problems      137\n",
      "Breakdown                      81\n",
      "Structural deficiency          69\n",
      "Electrical                     58\n",
      "Plugged / choked               50\n",
      "Leaking                        44\n",
      "Failure to start on demand     28\n",
      "Abnormal instrument reading    23\n",
      "Overheating                    20\n",
      "Fail to function               20\n",
      "Vibration                      17\n",
      "Low output                     17\n",
      "Other                          12\n",
      "Spurious stop                  10\n",
      "Noise                          8\n",
      "Contamination                  8\n",
      "Erratic output                 8\n",
      "Failure to stop on demand      7\n",
      "High output                    5\n",
      "Fail to open                   2\n",
      "Fail to close                  1\n",
      "Failure to rotate              1\n",
      "Total: 626\n"
     ]
    }
   ],
   "source": [
    "# Show failure mode codes and their total number of occurrences\n",
    "show_codes(data)"
   ]
  },
  {
   "cell_type": "code",
   "execution_count": 5,
   "metadata": {},
   "outputs": [
    {
     "name": "stdout",
     "output_type": "stream",
     "text": [
      "Aligned Data: 570\n"
     ]
    }
   ],
   "source": [
    "# Aligns the full mwo sentences to its failure mode based on its labelled observations\n",
    "raw_mwo2kg_analysis(data)"
   ]
  }
 ],
 "metadata": {
  "kernelspec": {
   "display_name": "venv",
   "language": "python",
   "name": "python3"
  },
  "language_info": {
   "codemirror_mode": {
    "name": "ipython",
    "version": 3
   },
   "file_extension": ".py",
   "mimetype": "text/x-python",
   "name": "python",
   "nbconvert_exporter": "python",
   "pygments_lexer": "ipython3",
   "version": "3.11.4"
  }
 },
 "nbformat": 4,
 "nbformat_minor": 2
}
