{
 "cells": [
  {
   "cell_type": "markdown",
   "metadata": {},
   "source": [
    "## Import packages and Load Data"
   ]
  },
  {
   "cell_type": "code",
   "execution_count": 2,
   "metadata": {},
   "outputs": [],
   "source": [
    "def load_data(file_path):\n",
    "    data = []\n",
    "    with open(file_path, 'r', encoding='utf-8') as file:\n",
    "        lines = file.readlines()\n",
    "        for line in lines:\n",
    "            if line != '\\n':\n",
    "                data.append((line.split('\\t')[0], line.split('\\t')[1].strip()))\n",
    "    return data\n",
    "\n",
    "train_data = load_data('../data/MaintNorm/train.norm')\n",
    "test_data = load_data('../data/MaintNorm/test.norm')\n",
    "val_data = load_data('../data/MaintNorm/val.norm')\n",
    "full_data = train_data + test_data + val_data\n",
    "data = list(set(full_data)) # remove duplicates"
   ]
  },
  {
   "cell_type": "code",
   "execution_count": 8,
   "metadata": {},
   "outputs": [],
   "source": [
    "# Remove irrelevant pairs (e.g. same text, empty text, mask tags, etc.)\n",
    "def remove_irrelevant(data):\n",
    "    output = []\n",
    "    irrelevant_tags = ['<num>', '<id>', '<sensitive>', '<date>']\n",
    "    for pair in data:\n",
    "        if (pair[0] == pair[1] or pair[1] == '' \n",
    "            or pair[0].lower() == pair[1].lower()\n",
    "            or any(tag in pair[1] for tag in irrelevant_tags)): \n",
    "            continue\n",
    "        output.append(pair)\n",
    "    return output"
   ]
  },
  {
   "cell_type": "code",
   "execution_count": 9,
   "metadata": {},
   "outputs": [],
   "source": [
    "# Save into a corrections dictionary\n",
    "def save_corrections(corrections, file_path):\n",
    "    with open(file_path, 'w', encoding='utf-8') as file:\n",
    "        file.write('wrong,correct\\n')\n",
    "        for pair in corrections:\n",
    "            file.write(f'{pair[0]},{pair[1]}\\n')"
   ]
  },
  {
   "cell_type": "code",
   "execution_count": 10,
   "metadata": {},
   "outputs": [],
   "source": [
    "corrections = remove_irrelevant(data)\n",
    "save_corrections(corrections, '../data/Corrections/maintnorm_corrections.csv')"
   ]
  }
 ],
 "metadata": {
  "kernelspec": {
   "display_name": "base",
   "language": "python",
   "name": "python3"
  },
  "language_info": {
   "codemirror_mode": {
    "name": "ipython",
    "version": 3
   },
   "file_extension": ".py",
   "mimetype": "text/x-python",
   "name": "python",
   "nbconvert_exporter": "python",
   "pygments_lexer": "ipython3",
   "version": "3.12.2"
  }
 },
 "nbformat": 4,
 "nbformat_minor": 2
}
