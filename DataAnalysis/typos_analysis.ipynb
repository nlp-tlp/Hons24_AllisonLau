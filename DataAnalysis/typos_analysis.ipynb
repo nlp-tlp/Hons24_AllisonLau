{
 "cells": [
  {
   "cell_type": "markdown",
   "metadata": {},
   "source": [
    "## Import packages and Load Data"
   ]
  },
  {
   "cell_type": "code",
   "execution_count": 17,
   "metadata": {},
   "outputs": [],
   "source": [
    "import re\n",
    "import csv\n",
    "\n",
    "# Read corrections/abbreviations dictionary\n",
    "def load_dictionary(file):\n",
    "    dictionary = {}\n",
    "    with open(file, 'r') as f:\n",
    "        reader = csv.reader(f)\n",
    "        next(reader) # Ignore header\n",
    "        for row in reader:\n",
    "            original = row[0]\n",
    "            variations = row[1]\n",
    "            if original in dictionary:\n",
    "                dictionary[original].append(variations)\n",
    "            else:\n",
    "                dictionary[original] = [variations]\n",
    "    dictionary = dict(sorted(dictionary.items()))\n",
    "    return dictionary\n",
    "\n",
    "# Typos based on reversed mwo_corrections dictionary\n",
    "mwo_typos = load_dictionary('../data/Corrections/mwo_corrections.csv')\n",
    "maintnorm_typos = load_dictionary('../data/Corrections/maintnorm_corrections.csv')\n",
    "abbreviations = load_dictionary('../data/Corrections/abbreviations.csv')"
   ]
  },
  {
   "cell_type": "code",
   "execution_count": 37,
   "metadata": {},
   "outputs": [],
   "source": [
    "# Preprocessing\n",
    "def preprocess(string):\n",
    "    # Add spaces around punctuation marks, excluding slashes and hyphens\n",
    "    output = re.sub(r'([!\"#$%&\\'()*+,.:;<=>?@[\\\\\\]^_`{|}~])', r\" \\1 \", string)\n",
    "\n",
    "    # Add spaces around slashes (/) where appropriate\n",
    "    output = re.sub(r\"((\\w{3,})\\s*\\/\\s*)(?=\\w{3,})\", r\"\\2 / \", output)\n",
    "\n",
    "    # Add spaces around hyphens (-) where appropriate\n",
    "    output = re.sub(r\"((\\w{3,})\\s*-\\s*)(?=\\w{3,})\", r\"\\2 - \", output)\n",
    "    \n",
    "    return output"
   ]
  }
 ],
 "metadata": {
  "kernelspec": {
   "display_name": "base",
   "language": "python",
   "name": "python3"
  },
  "language_info": {
   "codemirror_mode": {
    "name": "ipython",
    "version": 3
   },
   "file_extension": ".py",
   "mimetype": "text/x-python",
   "name": "python",
   "nbconvert_exporter": "python",
   "pygments_lexer": "ipython3",
   "version": "3.12.2"
  }
 },
 "nbformat": 4,
 "nbformat_minor": 2
}
