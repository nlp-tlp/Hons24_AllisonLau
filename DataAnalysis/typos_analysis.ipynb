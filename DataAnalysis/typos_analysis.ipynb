{
 "cells": [
  {
   "cell_type": "markdown",
   "metadata": {},
   "source": [
    "## Import packages and Load Data"
   ]
  },
  {
   "cell_type": "code",
   "execution_count": 5,
   "metadata": {},
   "outputs": [],
   "source": [
    "import csv\n",
    "\n",
    "# Read corrections/abbreviations dictionary\n",
    "def load_dictionary(file):\n",
    "    dictionary = {}\n",
    "    with open(file, 'r') as f:\n",
    "        reader = csv.reader(f)\n",
    "        next(reader) # Ignore header\n",
    "        for row in reader:\n",
    "            original = row[0]\n",
    "            variations = row[1]\n",
    "            if original in dictionary:\n",
    "                dictionary[original].append(variations)\n",
    "            else:\n",
    "                dictionary[original] = [variations]\n",
    "    dictionary = dict(sorted(dictionary.items()))\n",
    "    return dictionary\n",
    "\n",
    "# Typos based on reversed mwo_corrections dictionary\n",
    "mudlark = load_dictionary('../data/Corrections/mwo_corrections.csv')\n",
    "maintnorm = load_dictionary('../data/Corrections/maintnorm_corrections.csv')\n",
    "abbreviations = load_dictionary('../data/Corrections/abbreviations.csv')\n",
    "contractions = load_dictionary('../data/Corrections/contractions.csv')\n",
    "keyboard = load_dictionary('../data/Corrections/keyboard.csv')"
   ]
  },
  {
   "cell_type": "code",
   "execution_count": 8,
   "metadata": {},
   "outputs": [],
   "source": [
    "# Read and reorder csv file\n",
    "def reorder_csv(file):\n",
    "    data = []\n",
    "    # Read csv file\n",
    "    with open(file, 'r') as f:\n",
    "        reader = csv.reader(f)\n",
    "        header = next(reader)\n",
    "        for row in reader:\n",
    "            data.append(row)\n",
    "\n",
    "    # Sort data and write to file\n",
    "    data = sorted(data, key=lambda x: x[0])\n",
    "    with open(file, 'w', newline='') as f:\n",
    "        writer = csv.writer(f)\n",
    "        writer.writerow(header)\n",
    "        for row in data:\n",
    "            writer.writerow(row)\n",
    "\n",
    "\n",
    "reorder_csv('../data/Corrections/contractions.csv')\n",
    "reorder_csv('../data/Corrections/abbreviations.csv')\n",
    "reorder_csv('../data/Corrections/maintnorm_corrections.csv')\n",
    "reorder_csv('../data/Corrections/mwo_corrections.csv')"
   ]
  }
 ],
 "metadata": {
  "kernelspec": {
   "display_name": "base",
   "language": "python",
   "name": "python3"
  },
  "language_info": {
   "codemirror_mode": {
    "name": "ipython",
    "version": 3
   },
   "file_extension": ".py",
   "mimetype": "text/x-python",
   "name": "python",
   "nbconvert_exporter": "python",
   "pygments_lexer": "ipython3",
   "version": "3.12.2"
  }
 },
 "nbformat": 4,
 "nbformat_minor": 2
}
