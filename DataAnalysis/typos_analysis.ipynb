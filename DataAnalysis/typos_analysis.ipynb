{
 "cells": [
  {
   "cell_type": "markdown",
   "metadata": {},
   "source": [
    "## Import packages and Load Data"
   ]
  },
  {
   "cell_type": "code",
   "execution_count": 27,
   "metadata": {},
   "outputs": [],
   "source": [
    "import re\n",
    "import csv\n",
    "\n",
    "# Read corrections dictionary\n",
    "def load_typos(file):\n",
    "    corrections = {}\n",
    "    with open(file, 'r') as f:\n",
    "        reader = csv.reader(f)\n",
    "        next(reader) # Ignore header\n",
    "        for row in reader:\n",
    "            correct = row[0]\n",
    "            wrong = row[1].lstrip()\n",
    "            if correct in corrections:\n",
    "                corrections[correct].append(wrong)\n",
    "            else:\n",
    "                corrections[correct] = [wrong]\n",
    "    corrections = dict(sorted(corrections.items()))\n",
    "    return corrections\n",
    "\n",
    "# Typos based on reversed mwo_corrections dictionary\n",
    "mwo_typos = load_typos('../data/Corrections/mwo_corrections.csv')\n",
    "maintnorm_typos = load_typos('../data/Corrections/maintnorm_corrections.csv')"
   ]
  },
  {
   "cell_type": "code",
   "execution_count": 37,
   "metadata": {},
   "outputs": [],
   "source": [
    "# Preprocessing\n",
    "def preprocess(string):\n",
    "    # Add spaces around punctuation marks, excluding slashes and hyphens\n",
    "    output = re.sub(r'([!\"#$%&\\'()*+,.:;<=>?@[\\\\\\]^_`{|}~])', r\" \\1 \", string)\n",
    "\n",
    "    # Add spaces around slashes (/) where appropriate\n",
    "    output = re.sub(r\"((\\w{3,})\\s*\\/\\s*)(?=\\w{3,})\", r\"\\2 / \", output)\n",
    "\n",
    "    # Add spaces around hyphens (-) where appropriate\n",
    "    output = re.sub(r\"((\\w{3,})\\s*-\\s*)(?=\\w{3,})\", r\"\\2 - \", output)\n",
    "    \n",
    "    return output"
   ]
  }
 ],
 "metadata": {
  "kernelspec": {
   "display_name": "base",
   "language": "python",
   "name": "python3"
  },
  "language_info": {
   "codemirror_mode": {
    "name": "ipython",
    "version": 3
   },
   "file_extension": ".py",
   "mimetype": "text/x-python",
   "name": "python",
   "nbconvert_exporter": "python",
   "pygments_lexer": "ipython3",
   "version": "3.12.2"
  }
 },
 "nbformat": 4,
 "nbformat_minor": 2
}
