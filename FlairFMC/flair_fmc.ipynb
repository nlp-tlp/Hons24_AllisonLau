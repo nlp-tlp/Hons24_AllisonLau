{
 "cells": [
  {
   "cell_type": "markdown",
   "metadata": {},
   "source": [
    "## Import packages"
   ]
  },
  {
   "cell_type": "code",
   "execution_count": 3,
   "metadata": {},
   "outputs": [
    {
     "name": "stderr",
     "output_type": "stream",
     "text": [
      "c:\\Users\\allis\\miniconda3\\Lib\\site-packages\\tqdm\\auto.py:21: TqdmWarning: IProgress not found. Please update jupyter and ipywidgets. See https://ipywidgets.readthedocs.io/en/stable/user_install.html\n",
      "  from .autonotebook import tqdm as notebook_tqdm\n"
     ]
    }
   ],
   "source": [
    "import os\n",
    "import csv\n",
    "from flair.embeddings import PooledFlairEmbeddings, DocumentRNNEmbeddings\n",
    "from flair.datasets import CSVClassificationCorpus\n",
    "from flair.visual.training_curves import Plotter\n",
    "from flair.trainers import ModelTrainer\n",
    "from flair.models import TextClassifier\n",
    "from flair.data import Sentence"
   ]
  },
  {
   "cell_type": "markdown",
   "metadata": {},
   "source": [
    "## Prepare data for Training Flair FMC Model"
   ]
  },
  {
   "cell_type": "code",
   "execution_count": null,
   "metadata": {},
   "outputs": [],
   "source": [
    "# Make training and validation sets from synthetic data\n",
    "# (Test data will be human data from FMC-MWO2KG)\n",
    "def prepare_data(filepath):\n",
    "    pass"
   ]
  },
  {
   "cell_type": "markdown",
   "metadata": {},
   "source": [
    "## Train Flair FMC Model"
   ]
  },
  {
   "cell_type": "code",
   "execution_count": null,
   "metadata": {},
   "outputs": [],
   "source": [
    "def train_fmc(data_dir='../data/FMC-MWO2KG', model='fmc-mwo2kg'):\n",
    "    current_path = os.path.dirname(os.path.abspath(__file__))\n",
    "\n",
    "    # 1. what label do we want to predict?\n",
    "    label_type = 'failure_mode'\n",
    "\n",
    "    # 2. get the corpus\n",
    "    column_name_map = {0: 'text', 1: \"label_failure_mode\"}\n",
    "    data_folder = os.path.join(current_path, data_dir)\n",
    "    corpus = CSVClassificationCorpus(data_folder, column_name_map, label_type=label_type, delimiter=\",\")\n",
    "\n",
    "    # 3. create the label dictionary\n",
    "    label_dict = corpus.make_label_dictionary(label_type=label_type)\n",
    "\n",
    "    # 4. initialize embeddings\n",
    "    word_embeddings = [\n",
    "        #FlairEmbeddings('resources/taggers/geo_language_model/best-lm.pt')\n",
    "\n",
    "        # comment in this line to use character embeddings\n",
    "        #CharacterEmbeddings(),\n",
    "        #BertEmbeddings(),\n",
    "\n",
    "        # comment in these lines to use flair embeddings\n",
    "        PooledFlairEmbeddings('mix-forward'),\n",
    "        PooledFlairEmbeddings('mix-backward'),\n",
    "    ]\n",
    "\n",
    "    document_embeddings = DocumentRNNEmbeddings(word_embeddings, hidden_size=512)\n",
    "    #document_embeddings = TransformerDocumentEmbeddings('distilbert-base-uncased', fine_tune=True)\n",
    "    #embeddings: StackedEmbeddings = StackedEmbeddings(embeddings=embedding_types)\n",
    "\n",
    "    # 5. initialize sequence tagger\n",
    "    classifier  = TextClassifier(document_embeddings, label_dictionary=label_dict, label_type=label_type)\n",
    "\n",
    "    # 6. initialize trainer\n",
    "    trainer = ModelTrainer(classifier, corpus)\n",
    "\n",
    "    # 7. start training\n",
    "    trainer.train(os.path.join(current_path, f\"FlairModels/{model}\"),\n",
    "                    learning_rate=0.1,\n",
    "                    mini_batch_size=32,\n",
    "                    #anneal_factor=0.5,\n",
    "                    max_epochs=20,\n",
    "                    patience=5,\n",
    "                    embeddings_storage_mode='gpu')"
   ]
  },
  {
   "cell_type": "markdown",
   "metadata": {},
   "source": [
    "## Test Flair FMC Model"
   ]
  },
  {
   "cell_type": "code",
   "execution_count": null,
   "metadata": {},
   "outputs": [],
   "source": [
    "def test_fmc(data_dir='../data/FMC-MWO2KG', model='fmc-mwo2kg'):\n",
    "    model = TextClassifier.load(f'FlairModels/{model}/final-model.pt')\n",
    "\n",
    "    test_sents = []\n",
    "    with open(f'{data_dir}/test.txt', 'r', encoding='utf-8') as f:\n",
    "        for line in f:\n",
    "            phrase = line.split(',')[0].strip()\n",
    "            label = line.split(',')[1].strip()\n",
    "            test_sents.append({ 'input': phrase, 'ground_truth': label})\n",
    "\n",
    "    for sent in test_sents:\n",
    "        s = Sentence(sent['input'])\n",
    "        model.predict(s)\n",
    "\n",
    "        label = str(s.labels[0]).split(' (', maxsplit=1)[0]\n",
    "        conf = str(s.labels[0]).split(' (')[1].split(')')[0]\n",
    "\n",
    "        sent['prediction'] = label\n",
    "        sent['confidence'] = conf\n",
    "\n",
    "    with open(f'FlairResults/{model}.csv', 'w', encoding='utf-8') as f:\n",
    "        f.write(','.join(test_sents[0].keys()))\n",
    "        f.write('\\n')\n",
    "        for sent in test_sents:\n",
    "            f.write(','.join(sent.values()))\n",
    "            f.write('\\n')\n",
    "\n",
    "    print(f\"Results written to FlairResults/{model}.csv.\")"
   ]
  },
  {
   "cell_type": "markdown",
   "metadata": {},
   "source": [
    "## Predict Flair FMC Model"
   ]
  },
  {
   "cell_type": "code",
   "execution_count": null,
   "metadata": {},
   "outputs": [],
   "source": [
    "def predict_fmc(model, infile, outfile):\n",
    "    model = TextClassifier.load(f'FlairModels/{model}/final-model.pt')\n",
    "\n",
    "    test_sents = []\n",
    "    with open(infile, 'r', encoding='utf-8') as f:\n",
    "        for line in f:\n",
    "            input = line.strip()\n",
    "            sent = Sentence(input)\n",
    "            model.predict(sent)\n",
    "            label = str(sent.labels[0]).split(' (', maxsplit=1)[0]\n",
    "            conf = str(sent.labels[0]).split(' (')[1].split(')')[0]\n",
    "            test_sents.append({ 'input': input, 'prediction': label, 'confidence': conf})\n",
    "    \n",
    "    with open(outfile, 'w', encoding='utf-8') as f:\n",
    "        f.write(','.join(test_sents[0].keys()))\n",
    "        f.write('\\n')\n",
    "        for sent in test_sents:\n",
    "            f.write(','.join(sent.values()))\n",
    "            f.write('\\n')  "
   ]
  },
  {
   "cell_type": "markdown",
   "metadata": {},
   "source": [
    "## Train and test Flair FMC Model on FMC-MWO2KG dataset"
   ]
  },
  {
   "cell_type": "code",
   "execution_count": null,
   "metadata": {},
   "outputs": [],
   "source": [
    "train_fmc(data_dir=\"../data/FMC-MWO2KG\", model='fmc-mwo2kg')\n",
    "test_fmc(model='fmc-mwo2kg')\n",
    "\n",
    "# Use model to predict on MaintIE gold dataset\n",
    "predict_fmc(model='fmc-mwo2kg',\n",
    "            infile=\"../data/MaintIE/gold_undesirable.txt\",\n",
    "            outfile=\"../data/MaintIE/flair_gold_pred.csv\")"
   ]
  },
  {
   "cell_type": "code",
   "execution_count": null,
   "metadata": {},
   "outputs": [],
   "source": []
  }
 ],
 "metadata": {
  "kernelspec": {
   "display_name": "base",
   "language": "python",
   "name": "python3"
  },
  "language_info": {
   "codemirror_mode": {
    "name": "ipython",
    "version": 3
   },
   "file_extension": ".py",
   "mimetype": "text/x-python",
   "name": "python",
   "nbconvert_exporter": "python",
   "pygments_lexer": "ipython3",
   "version": "3.12.2"
  }
 },
 "nbformat": 4,
 "nbformat_minor": 2
}
