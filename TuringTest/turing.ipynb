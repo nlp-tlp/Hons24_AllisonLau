{
 "cells": [
  {
   "cell_type": "markdown",
   "metadata": {},
   "source": [
    "## Import packages"
   ]
  },
  {
   "cell_type": "code",
   "execution_count": 1,
   "metadata": {},
   "outputs": [
    {
     "name": "stderr",
     "output_type": "stream",
     "text": [
      "[nltk_data] Downloading package cmudict to\n",
      "[nltk_data]     C:\\Users\\allis\\AppData\\Roaming\\nltk_data...\n",
      "[nltk_data]   Package cmudict is already up-to-date!\n"
     ]
    }
   ],
   "source": [
    "import os\n",
    "import sys\n",
    "import random\n",
    "import pandas as pd\n",
    "from scipy.stats import chi2_contingency\n",
    "\n",
    "current_dir = os.path.dirname(os.path.abspath(\"__file__\"))\n",
    "main_dir = os.path.join(current_dir, '..')\n",
    "sys.path.append(main_dir)\n",
    "\n",
    "from humanise import humanise_sentence, initialise_globals\n",
    "\n",
    "initialise_globals(main_dir)"
   ]
  },
  {
   "cell_type": "markdown",
   "metadata": {},
   "source": [
    "## Create Turing Test data"
   ]
  },
  {
   "cell_type": "code",
   "execution_count": 2,
   "metadata": {},
   "outputs": [],
   "source": [
    "# Function to load human data from MaintNorm dataset\n",
    "def load_maintnorm_sentences(file_path):\n",
    "    dirty_sentences = []\n",
    "    clean_sentences = []\n",
    "    current_dirty = []\n",
    "    current_clean = []\n",
    "    with open(file_path, 'r', encoding='utf-8') as file:\n",
    "        for line in file:\n",
    "            line = line.strip()\n",
    "            if not line:  # Empty line means a new sentence\n",
    "                if current_dirty and current_clean:\n",
    "                    dirty_sentences.append(' '.join(current_dirty))\n",
    "                    clean_sentences.append(' '.join(current_clean))\n",
    "                    current_dirty = []\n",
    "                    current_clean = []\n",
    "            else:\n",
    "                parts = line.split('\\t')\n",
    "                if len(parts) > 1:\n",
    "                    dirty, clean = parts[0], parts[1]\n",
    "                    if not clean in ['<id>', '-']:\n",
    "                        current_dirty.append(dirty.lower())\n",
    "                    current_clean.append(clean.lower())\n",
    "    return dirty_sentences, clean_sentences\n",
    "\n",
    "# Save all human data to text file\n",
    "train_dirty, train_clean = load_maintnorm_sentences('../data/MaintNorm/train.norm')\n",
    "test_dirty, test_clean = load_maintnorm_sentences('../data/MaintNorm/test.norm')\n",
    "val_dirty, val_clean = load_maintnorm_sentences('../data/MaintNorm/val.norm')\n",
    "full_dirty = train_dirty + test_dirty + val_dirty\n",
    "human_data = list(set(full_dirty)) # remove duplicates\n",
    "with open('human.txt', 'w') as f:\n",
    "    for item in human_data:\n",
    "        f.write(\"%s\\n\" % item)\n",
    "\n",
    "# Function to load human sentences or synthetic sentences\n",
    "def load_sentences(file_path):\n",
    "    with open(file_path, 'r', encoding='utf-8') as file:\n",
    "        return [line.strip() for line in file]\n",
    "    \n",
    "synthetic_data = load_sentences('synthetic_generate.txt')\n",
    "humanise_data = [humanise_sentence(s) for s in synthetic_data]\n",
    "with open('synthetic_humanise.txt', 'w') as f:\n",
    "    for item in humanise_data:\n",
    "        f.write(\"%s\\n\" % item)"
   ]
  },
  {
   "cell_type": "code",
   "execution_count": 3,
   "metadata": {},
   "outputs": [],
   "source": [
    "# Random 50 human data sentences\n",
    "human_data = load_sentences('human.txt')\n",
    "human_50 = random.sample(human_data, 50)\n",
    "human_50 = pd.DataFrame(human_50, columns=['sentence'])\n",
    "human_50['label'] = 'h'\n",
    "\n",
    "# Random 50 synthetic data sentences\n",
    "synthetic_data = load_sentences('synthetic_humanise.txt')\n",
    "synthetic_50 = random.sample(synthetic_data, 50)\n",
    "synthetic_50 = pd.DataFrame(synthetic_50, columns=['sentence'])\n",
    "synthetic_50['label'] = 's'\n",
    "\n",
    "# Combine and shuffle human and synthetic data\n",
    "turing_data = pd.concat([human_50, synthetic_50])\n",
    "turing_data = turing_data.sample(frac=1).reset_index(drop=True)\n",
    "\n",
    "turing_data.to_csv('target.csv', index=False)\n",
    "turing_data.drop(columns=['label']).to_csv('turing.csv', index=False)"
   ]
  },
  {
   "cell_type": "markdown",
   "metadata": {},
   "source": [
    "## Evaluate human predictions on Turing Test data"
   ]
  },
  {
   "cell_type": "code",
   "execution_count": 77,
   "metadata": {},
   "outputs": [],
   "source": [
    "def evaluate_turing(target_file, turing_file):\n",
    "    target = pd.read_csv(target_file)\n",
    "    turing = pd.read_csv(turing_file)\n",
    "    combine = pd.merge(target, turing, on='sentence')\n",
    "\n",
    "    # Observed counts\n",
    "    # Count of correct identifications\n",
    "    correct_human = ((combine['label_x'] == 'h') & (combine['label_y'] == 'h')).sum()\n",
    "    correct_synthetic = ((combine['label_x'] == 's') & (combine['label_y'] == 's')).sum()\n",
    "    # Count of incorrect identifications\n",
    "    incorrect_human = ((combine['label_x'] == 'h') & (combine['label_y'] == 's')).sum()\n",
    "    incorrect_synthetic = ((combine['label_x'] == 's') & (combine['label_y'] == 'h')).sum()\n",
    "    \n",
    "    # Contingency table\n",
    "    contingency_table = [[correct_human, incorrect_human],\n",
    "                       [incorrect_synthetic, correct_synthetic]]\n",
    "\n",
    "    # Chi-square test\n",
    "    res = chi2_contingency(contingency_table)\n",
    "    \n",
    "    # Confusion matrix\n",
    "    column_names = ['Actual Human', 'Actual Synthetic']\n",
    "    index_names = ['Predicted Human', 'Predicted Synthetic']\n",
    "    confusion_matrix = pd.DataFrame(contingency_table, columns=column_names, index=index_names)\n",
    "\n",
    "    # Accuracy\n",
    "    accuracy = (correct_human + correct_synthetic) / len(combine)\n",
    "    \n",
    "    # Precision, recall, F1-score\n",
    "    precision = correct_human / (correct_human + incorrect_synthetic)\n",
    "    recall = correct_human / (correct_human + incorrect_human)\n",
    "    f1_score = 2 * (precision * recall) / (precision + recall)\n",
    "\n",
    "    # Print results\n",
    "    print('-------------------------------- Frequency of Labels')\n",
    "    print(turing['label'].value_counts().to_string())\n",
    "    \n",
    "    print('---------------------------------- Confusion Matrix')\n",
    "    print(confusion_matrix)\n",
    "    \n",
    "    print('----------------------------------- Chi-Square Test')\n",
    "    print(f'Chi-square          : {res.statistic:.2f}')\n",
    "    print(f'p-value             : {res.pvalue:.2f}')\n",
    "    print(f'Degrees of freedom  : {res.dof}')\n",
    "    print('Expected frequencies:')\n",
    "    print(res.expected_freq)\n",
    "    \n",
    "    print('--------------------------------------- Performance')\n",
    "    print(f'Accuracy            : {accuracy:.2f}')\n",
    "    print(f'Precision           : {precision:.2f}')\n",
    "    print(f'Recall              : {recall:.2f}')\n",
    "    print(f'F1-score            : {f1_score:.2f}')"
   ]
  },
  {
   "cell_type": "code",
   "execution_count": 78,
   "metadata": {},
   "outputs": [
    {
     "name": "stdout",
     "output_type": "stream",
     "text": [
      "-------------------------------- Frequency of Labels\n",
      "label\n",
      "h    54\n",
      "s    45\n",
      "---------------------------------- Confusion Matrix\n",
      "                     Actual Human  Actual Synthetic\n",
      "Predicted Human                29                20\n",
      "Predicted Synthetic            25                25\n",
      "----------------------------------- Chi-Square Test\n",
      "Chi-square          : 0.51\n",
      "p-value             : 0.47\n",
      "Degrees of freedom  : 1\n",
      "Expected frequencies:\n",
      "[[26.72727273 22.27272727]\n",
      " [27.27272727 22.72727273]]\n",
      "--------------------------------------- Performance\n",
      "Accuracy            : 0.54\n",
      "Precision           : 0.54\n",
      "Recall              : 0.59\n",
      "F1-score            : 0.56\n"
     ]
    }
   ],
   "source": [
    "evaluate_turing('target.csv', 'turing_jadeyn.csv')"
   ]
  },
  {
   "cell_type": "code",
   "execution_count": 79,
   "metadata": {},
   "outputs": [
    {
     "name": "stdout",
     "output_type": "stream",
     "text": [
      "-------------------------------- Frequency of Labels\n",
      "label\n",
      "h    56\n",
      "s    44\n",
      "---------------------------------- Confusion Matrix\n",
      "                     Actual Human  Actual Synthetic\n",
      "Predicted Human                47                 3\n",
      "Predicted Synthetic             9                41\n",
      "----------------------------------- Chi-Square Test\n",
      "Chi-square          : 55.56\n",
      "p-value             : 0.00\n",
      "Degrees of freedom  : 1\n",
      "Expected frequencies:\n",
      "[[28. 22.]\n",
      " [28. 22.]]\n",
      "--------------------------------------- Performance\n",
      "Accuracy            : 0.88\n",
      "Precision           : 0.84\n",
      "Recall              : 0.94\n",
      "F1-score            : 0.89\n"
     ]
    }
   ],
   "source": [
    "evaluate_turing('target.csv', 'turing_chay.csv')"
   ]
  },
  {
   "cell_type": "code",
   "execution_count": 80,
   "metadata": {},
   "outputs": [
    {
     "name": "stdout",
     "output_type": "stream",
     "text": [
      "-------------------------------- Frequency of Labels\n",
      "label\n",
      "h    65\n",
      "s    35\n",
      "---------------------------------- Confusion Matrix\n",
      "                     Actual Human  Actual Synthetic\n",
      "Predicted Human                36                14\n",
      "Predicted Synthetic            29                21\n",
      "----------------------------------- Chi-Square Test\n",
      "Chi-square          : 1.58\n",
      "p-value             : 0.21\n",
      "Degrees of freedom  : 1\n",
      "Expected frequencies:\n",
      "[[32.5 17.5]\n",
      " [32.5 17.5]]\n",
      "--------------------------------------- Performance\n",
      "Accuracy            : 0.57\n",
      "Precision           : 0.55\n",
      "Recall              : 0.72\n",
      "F1-score            : 0.63\n"
     ]
    }
   ],
   "source": [
    "evaluate_turing('target.csv', 'turing_peter.csv')"
   ]
  },
  {
   "cell_type": "code",
   "execution_count": 81,
   "metadata": {},
   "outputs": [
    {
     "name": "stdout",
     "output_type": "stream",
     "text": [
      "-------------------------------- Frequency of Labels\n",
      "label\n",
      "h    65\n",
      "s    35\n",
      "---------------------------------- Confusion Matrix\n",
      "                     Actual Human  Actual Synthetic\n",
      "Predicted Human                40                10\n",
      "Predicted Synthetic            25                25\n",
      "----------------------------------- Chi-Square Test\n",
      "Chi-square          : 8.62\n",
      "p-value             : 0.00\n",
      "Degrees of freedom  : 1\n",
      "Expected frequencies:\n",
      "[[32.5 17.5]\n",
      " [32.5 17.5]]\n",
      "--------------------------------------- Performance\n",
      "Accuracy            : 0.65\n",
      "Precision           : 0.62\n",
      "Recall              : 0.80\n",
      "F1-score            : 0.70\n"
     ]
    }
   ],
   "source": [
    "evaluate_turing('target.csv', 'turing_ms.csv')"
   ]
  }
 ],
 "metadata": {
  "kernelspec": {
   "display_name": "base",
   "language": "python",
   "name": "python3"
  },
  "language_info": {
   "codemirror_mode": {
    "name": "ipython",
    "version": 3
   },
   "file_extension": ".py",
   "mimetype": "text/x-python",
   "name": "python",
   "nbconvert_exporter": "python",
   "pygments_lexer": "ipython3",
   "version": "3.12.2"
  }
 },
 "nbformat": 4,
 "nbformat_minor": 2
}
