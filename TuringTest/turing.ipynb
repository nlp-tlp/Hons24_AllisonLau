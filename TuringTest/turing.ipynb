{
 "cells": [
  {
   "cell_type": "markdown",
   "metadata": {},
   "source": [
    "## Import packages"
   ]
  },
  {
   "cell_type": "code",
   "execution_count": 2,
   "metadata": {},
   "outputs": [
    {
     "name": "stderr",
     "output_type": "stream",
     "text": [
      "[nltk_data] Downloading package cmudict to\n",
      "[nltk_data]     C:\\Users\\allis\\AppData\\Roaming\\nltk_data...\n",
      "[nltk_data]   Package cmudict is already up-to-date!\n"
     ]
    }
   ],
   "source": [
    "import os\n",
    "import sys\n",
    "import random\n",
    "import pandas as pd\n",
    "from scipy.stats import chi2_contingency\n",
    "\n",
    "current_dir = os.path.dirname(os.path.abspath(\"__file__\"))\n",
    "main_dir = os.path.join(current_dir, '..')\n",
    "sys.path.append(main_dir)\n",
    "\n",
    "from humanise import humanise_sentence, initialise_globals\n",
    "\n",
    "initialise_globals(main_dir)"
   ]
  },
  {
   "cell_type": "markdown",
   "metadata": {},
   "source": [
    "## Create Turing Test data"
   ]
  },
  {
   "cell_type": "code",
   "execution_count": 4,
   "metadata": {},
   "outputs": [],
   "source": [
    "# Function to load human data from MaintNorm dataset\n",
    "def load_maintnorm_sentences(file_path):\n",
    "    dirty_sentences = []\n",
    "    clean_sentences = []\n",
    "    current_dirty = []\n",
    "    current_clean = []\n",
    "    with open(file_path, 'r', encoding='utf-8') as file:\n",
    "        for line in file:\n",
    "            line = line.strip()\n",
    "            if not line:  # Empty line means a new sentence\n",
    "                if current_dirty and current_clean:\n",
    "                    dirty_sentences.append(' '.join(current_dirty))\n",
    "                    clean_sentences.append(' '.join(current_clean))\n",
    "                    current_dirty = []\n",
    "                    current_clean = []\n",
    "            else:\n",
    "                parts = line.split('\\t')\n",
    "                if len(parts) > 1:\n",
    "                    dirty, clean = parts[0], parts[1]\n",
    "                    if not clean in ['<id>', '-']:\n",
    "                        current_dirty.append(dirty.lower())\n",
    "                    current_clean.append(clean.lower())\n",
    "    return dirty_sentences, clean_sentences\n",
    "\n",
    "# Save all human data to text file\n",
    "train_dirty, train_clean = load_maintnorm_sentences('../data/MaintNorm/train.norm')\n",
    "test_dirty, test_clean = load_maintnorm_sentences('../data/MaintNorm/test.norm')\n",
    "val_dirty, val_clean = load_maintnorm_sentences('../data/MaintNorm/val.norm')\n",
    "full_dirty = train_dirty + test_dirty + val_dirty\n",
    "human_data = list(set(full_dirty)) # remove duplicates\n",
    "with open('human.txt', 'w') as f:\n",
    "    for item in human_data:\n",
    "        f.write(\"%s\\n\" % item)\n",
    "\n",
    "# Function to load human sentences or synthetic sentences\n",
    "def load_sentences(file_path):\n",
    "    with open(file_path, 'r', encoding='utf-8') as file:\n",
    "        return [line.strip() for line in file]"
   ]
  },
  {
   "cell_type": "code",
   "execution_count": 5,
   "metadata": {},
   "outputs": [],
   "source": [
    "# Random 50 human data sentences\n",
    "human_data = load_sentences('human.txt')\n",
    "human_50 = random.sample(human_data, 50)\n",
    "human_50 = pd.DataFrame(human_50, columns=['sentence'])\n",
    "human_50['label'] = 'h'\n",
    "\n",
    "# Random 50 synthetic data sentences\n",
    "synthetic_data = load_sentences('synthetic.txt')\n",
    "synthetic_50 = random.sample(synthetic_data, 50)\n",
    "synthetic_50 = [humanise_sentence(s) for s in synthetic_50]\n",
    "synthetic_50 = pd.DataFrame(synthetic_50, columns=['sentence'])\n",
    "synthetic_50['label'] = 's'\n",
    "\n",
    "# Combine and shuffle human and synthetic data\n",
    "turing_data = pd.concat([human_50, synthetic_50])\n",
    "turing_data = turing_data.sample(frac=1).reset_index(drop=True)\n",
    "\n",
    "turing_data.to_csv('target.csv', index=False)\n",
    "turing_data.drop(columns=['label']).to_csv('turing.csv', index=False)"
   ]
  },
  {
   "cell_type": "markdown",
   "metadata": {},
   "source": [
    "## Evaluate human predictions on Turing Test data"
   ]
  },
  {
   "cell_type": "code",
   "execution_count": 16,
   "metadata": {},
   "outputs": [],
   "source": [
    "def evaluate_turing(target_file, turing_file):\n",
    "    target = pd.read_csv(target_file)\n",
    "    turing = pd.read_csv(turing_file)\n",
    "    combine = pd.merge(target, turing, on='sentence')\n",
    "\n",
    "    # Observed counts\n",
    "    # Count of correct identifications\n",
    "    correct_human = ((combine['label_x'] == 'h') & (combine['label_y'] == 'h')).sum()\n",
    "    correct_synthetic = ((combine['label_x'] == 's') & (combine['label_y'] == 's')).sum()\n",
    "    # Count of incorrect identifications\n",
    "    incorrect_human = ((combine['label_x'] == 'h') & (combine['label_y'] == 's')).sum()\n",
    "    incorrect_synthetic = ((combine['label_x'] == 's') & (combine['label_y'] == 'h')).sum()\n",
    "    \n",
    "    # Contingency table\n",
    "    observed_counts = [[correct_human, incorrect_human],\n",
    "                    [incorrect_synthetic, correct_synthetic]]\n",
    "\n",
    "    # Chi-square test\n",
    "    chi2, p, dof, expected = chi2_contingency(observed_counts)\n",
    "\n",
    "    # Accuracy\n",
    "    accuracy = (correct_human + correct_synthetic) / len(combine)\n",
    "\n",
    "    # Print results\n",
    "    print(f'Chi-square: {chi2:.2f}')\n",
    "    print(f'p-value: {p:.2f}')\n",
    "    print(f'Degrees of freedom: {dof}')\n",
    "    print('Expected counts:')\n",
    "    print(expected)\n",
    "    print(f'Accuracy: {accuracy:.2f}')"
   ]
  },
  {
   "cell_type": "code",
   "execution_count": 17,
   "metadata": {},
   "outputs": [
    {
     "name": "stdout",
     "output_type": "stream",
     "text": [
      "Chi-square: 38.50\n",
      "p-value: 0.00\n",
      "Degrees of freedom: 1\n",
      "Expected counts:\n",
      "[[24. 26.]\n",
      " [24. 26.]]\n",
      "Accuracy: 0.82\n"
     ]
    }
   ],
   "source": [
    "evaluate_turing('target.csv', 'turing.csv')"
   ]
  }
 ],
 "metadata": {
  "kernelspec": {
   "display_name": "base",
   "language": "python",
   "name": "python3"
  },
  "language_info": {
   "codemirror_mode": {
    "name": "ipython",
    "version": 3
   },
   "file_extension": ".py",
   "mimetype": "text/x-python",
   "name": "python",
   "nbconvert_exporter": "python",
   "pygments_lexer": "ipython3",
   "version": "3.12.2"
  }
 },
 "nbformat": 4,
 "nbformat_minor": 2
}
