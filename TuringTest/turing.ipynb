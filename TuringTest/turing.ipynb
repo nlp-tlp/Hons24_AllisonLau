{
 "cells": [
  {
   "cell_type": "markdown",
   "metadata": {},
   "source": [
    "## Import packages and Load target data"
   ]
  },
  {
   "cell_type": "code",
   "execution_count": 1,
   "metadata": {},
   "outputs": [
    {
     "ename": "ModuleNotFoundError",
     "evalue": "No module named 'llm_generation'",
     "output_type": "error",
     "traceback": [
      "\u001b[1;31m---------------------------------------------------------------------------\u001b[0m",
      "\u001b[1;31mModuleNotFoundError\u001b[0m                       Traceback (most recent call last)",
      "Cell \u001b[1;32mIn[1], line 3\u001b[0m\n\u001b[0;32m      1\u001b[0m \u001b[38;5;28;01mimport\u001b[39;00m \u001b[38;5;21;01mpandas\u001b[39;00m \u001b[38;5;28;01mas\u001b[39;00m \u001b[38;5;21;01mpd\u001b[39;00m\n\u001b[0;32m      2\u001b[0m \u001b[38;5;28;01mfrom\u001b[39;00m \u001b[38;5;21;01mscipy\u001b[39;00m\u001b[38;5;21;01m.\u001b[39;00m\u001b[38;5;21;01mstats\u001b[39;00m \u001b[38;5;28;01mimport\u001b[39;00m chi2_contingency\n\u001b[1;32m----> 3\u001b[0m \u001b[38;5;28;01mfrom\u001b[39;00m \u001b[38;5;21;01mllm_generation\u001b[39;00m \u001b[38;5;28;01mimport\u001b[39;00m get_all_paths, get_fewshot_message\n\u001b[0;32m      5\u001b[0m target \u001b[38;5;241m=\u001b[39m pd\u001b[38;5;241m.\u001b[39mread_csv(\u001b[38;5;124m'\u001b[39m\u001b[38;5;124mtarget.csv\u001b[39m\u001b[38;5;124m'\u001b[39m)\n",
      "\u001b[1;31mModuleNotFoundError\u001b[0m: No module named 'llm_generation'"
     ]
    }
   ],
   "source": [
    "import pandas as pd\n",
    "from scipy.stats import chi2_contingency\n",
    "\n",
    "target = pd.read_csv('target.csv')"
   ]
  },
  {
   "cell_type": "markdown",
   "metadata": {},
   "source": [
    "## Create Turing Test data"
   ]
  },
  {
   "cell_type": "code",
   "execution_count": 18,
   "metadata": {},
   "outputs": [],
   "source": [
    "# Human data\n",
    "def load_maintnorm_sentences(file_path):\n",
    "    dirty_sentences = []\n",
    "    clean_sentences = []\n",
    "    current_dirty = []\n",
    "    current_clean = []\n",
    "    with open(file_path, 'r', encoding='utf-8') as file:\n",
    "        for line in file:\n",
    "            line = line.strip()\n",
    "            if not line:  # Empty line means a new sentence\n",
    "                if current_dirty and current_clean:\n",
    "                    dirty_sentences.append(' '.join(current_dirty))\n",
    "                    clean_sentences.append(' '.join(current_clean))\n",
    "                    current_dirty = []\n",
    "                    current_clean = []\n",
    "            else:\n",
    "                parts = line.split('\\t')\n",
    "                if len(parts) > 1:\n",
    "                    dirty, clean = parts[0], parts[1]\n",
    "                    if not clean in ['<id>', '-']:\n",
    "                        current_dirty.append(dirty.lower())\n",
    "                    current_clean.append(clean.lower())\n",
    "    return dirty_sentences, clean_sentences\n",
    "\n",
    "train_dirty, train_clean = load_maintnorm_sentences('../data/MaintNorm/train.norm')\n",
    "test_dirty, test_clean = load_maintnorm_sentences('../data/MaintNorm/test.norm')\n",
    "val_dirty, val_clean = load_maintnorm_sentences('../data/MaintNorm/val.norm')\n",
    "full_dirty = train_dirty + test_dirty + val_dirty\n",
    "human_data = list(set(full_dirty)) # remove duplicates\n"
   ]
  },
  {
   "cell_type": "code",
   "execution_count": 2,
   "metadata": {},
   "outputs": [],
   "source": [
    "# Synthetic data\n",
    "\n"
   ]
  },
  {
   "cell_type": "markdown",
   "metadata": {},
   "source": [
    "## Evaluate human predictions on Turing Test data"
   ]
  },
  {
   "cell_type": "code",
   "execution_count": 14,
   "metadata": {},
   "outputs": [],
   "source": [
    "evaluator = pd.read_csv('evaluator.csv')\n",
    "\n",
    "evaluate = pd.merge(target, evaluator, on='Sentence')\n",
    "\n",
    "accuracy = (evaluate['Human/Synthetic_x'] == evaluate['Human/Synthetic_y']).mean()"
   ]
  },
  {
   "cell_type": "code",
   "execution_count": 17,
   "metadata": {},
   "outputs": [
    {
     "name": "stdout",
     "output_type": "stream",
     "text": [
      "Chi-square: 0.00\n",
      "p-value: 1.00\n",
      "Degrees of freedom: 1\n",
      "Expected counts:\n",
      "[[2.5 2.5]\n",
      " [2.5 2.5]]\n",
      "Accuracy: 0.60\n"
     ]
    }
   ],
   "source": [
    "# Observed counts\n",
    "# Count of correct identifications\n",
    "correct_human = ((evaluate['Human/Synthetic_x'] == 'h') & (evaluate['Human/Synthetic_y'] == 'h')).sum()\n",
    "correct_synthetic = ((evaluate['Human/Synthetic_x'] == 's') & (evaluate['Human/Synthetic_y'] == 's')).sum()\n",
    "# Count of incorrect identifications\n",
    "incorrect_human = ((evaluate['Human/Synthetic_x'] == 'h') & (evaluate['Human/Synthetic_y'] == 's')).sum()\n",
    "incorrect_synthetic = ((evaluate['Human/Synthetic_x'] == 's') & (evaluate['Human/Synthetic_y'] == 'h')).sum()\n",
    "\n",
    "# Contingency table\n",
    "observed_counts = [[correct_human, incorrect_human],\n",
    "                   [incorrect_synthetic, correct_synthetic]]\n",
    "\n",
    "# Chi-square test\n",
    "chi2, p, dof, expected = chi2_contingency(observed_counts)\n",
    "\n",
    "# Accuracy\n",
    "accuracy = (correct_human + correct_synthetic) / len(evaluate)\n",
    "\n",
    "# Print results\n",
    "print(f'Chi-square: {chi2:.2f}')\n",
    "print(f'p-value: {p:.2f}')\n",
    "print(f'Degrees of freedom: {dof}')\n",
    "print('Expected counts:')\n",
    "print(expected)\n",
    "print(f'Accuracy: {accuracy:.2f}')"
   ]
  }
 ],
 "metadata": {
  "kernelspec": {
   "display_name": "base",
   "language": "python",
   "name": "python3"
  },
  "language_info": {
   "codemirror_mode": {
    "name": "ipython",
    "version": 3
   },
   "file_extension": ".py",
   "mimetype": "text/x-python",
   "name": "python",
   "nbconvert_exporter": "python",
   "pygments_lexer": "ipython3",
   "version": "3.12.2"
  }
 },
 "nbformat": 4,
 "nbformat_minor": 2
}
