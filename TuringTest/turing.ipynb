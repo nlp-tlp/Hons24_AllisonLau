{
 "cells": [
  {
   "cell_type": "markdown",
   "metadata": {},
   "source": [
    "## Import packages"
   ]
  },
  {
   "cell_type": "code",
   "execution_count": 1,
   "metadata": {},
   "outputs": [
    {
     "name": "stderr",
     "output_type": "stream",
     "text": [
      "[nltk_data] Downloading package cmudict to\n",
      "[nltk_data]     C:\\Users\\allis\\AppData\\Roaming\\nltk_data...\n",
      "[nltk_data]   Package cmudict is already up-to-date!\n"
     ]
    }
   ],
   "source": [
    "import os\n",
    "import sys\n",
    "import random\n",
    "import pandas as pd\n",
    "from scipy.stats import chi2_contingency\n",
    "\n",
    "current_dir = os.path.dirname(os.path.abspath(\"__file__\"))\n",
    "main_dir = os.path.join(current_dir, '..')\n",
    "sys.path.append(main_dir)\n",
    "\n",
    "from humanise import humanise_sentence, initialise_globals\n",
    "\n",
    "initialise_globals(main_dir)"
   ]
  },
  {
   "cell_type": "markdown",
   "metadata": {},
   "source": [
    "## Create Turing Test data"
   ]
  },
  {
   "cell_type": "code",
   "execution_count": 2,
   "metadata": {},
   "outputs": [],
   "source": [
    "# Function to load human data from MaintNorm dataset\n",
    "def load_maintnorm_sentences(file_path):\n",
    "    dirty_sentences = []\n",
    "    clean_sentences = []\n",
    "    current_dirty = []\n",
    "    current_clean = []\n",
    "    with open(file_path, 'r', encoding='utf-8') as file:\n",
    "        for line in file:\n",
    "            line = line.strip()\n",
    "            if not line:  # Empty line means a new sentence\n",
    "                if current_dirty and current_clean:\n",
    "                    dirty_sentences.append(' '.join(current_dirty))\n",
    "                    clean_sentences.append(' '.join(current_clean))\n",
    "                    current_dirty = []\n",
    "                    current_clean = []\n",
    "            else:\n",
    "                parts = line.split('\\t')\n",
    "                if len(parts) > 1:\n",
    "                    dirty, clean = parts[0], parts[1]\n",
    "                    if not clean in ['<id>', '-']:\n",
    "                        current_dirty.append(dirty.lower())\n",
    "                    current_clean.append(clean.lower())\n",
    "    return dirty_sentences, clean_sentences\n",
    "\n",
    "# Save all human data to text file\n",
    "train_dirty, train_clean = load_maintnorm_sentences('../data/MaintNorm/train.norm')\n",
    "test_dirty, test_clean = load_maintnorm_sentences('../data/MaintNorm/test.norm')\n",
    "val_dirty, val_clean = load_maintnorm_sentences('../data/MaintNorm/val.norm')\n",
    "full_dirty = train_dirty + test_dirty + val_dirty\n",
    "human_data = list(set(full_dirty)) # remove duplicates\n",
    "with open('human.txt', 'w') as f:\n",
    "    for item in human_data:\n",
    "        f.write(\"%s\\n\" % item)\n",
    "\n",
    "# Function to load human sentences or synthetic sentences\n",
    "def load_sentences(file_path):\n",
    "    with open(file_path, 'r', encoding='utf-8') as file:\n",
    "        return [line.strip() for line in file]\n",
    "    \n",
    "synthetic_data = load_sentences('synthetic_generate.txt')\n",
    "humanise_data = [humanise_sentence(s) for s in synthetic_data]\n",
    "with open('synthetic_humanise.txt', 'w') as f:\n",
    "    for item in humanise_data:\n",
    "        f.write(\"%s\\n\" % item)"
   ]
  },
  {
   "cell_type": "code",
   "execution_count": 3,
   "metadata": {},
   "outputs": [],
   "source": [
    "# Random 50 human data sentences\n",
    "human_data = load_sentences('human.txt')\n",
    "human_50 = random.sample(human_data, 50)\n",
    "human_50 = pd.DataFrame(human_50, columns=['sentence'])\n",
    "human_50['label'] = 'h'\n",
    "\n",
    "# Random 50 synthetic data sentences\n",
    "synthetic_data = load_sentences('synthetic_humanise.txt')\n",
    "synthetic_50 = random.sample(synthetic_data, 50)\n",
    "synthetic_50 = pd.DataFrame(synthetic_50, columns=['sentence'])\n",
    "synthetic_50['label'] = 's'\n",
    "\n",
    "# Combine and shuffle human and synthetic data\n",
    "turing_data = pd.concat([human_50, synthetic_50])\n",
    "turing_data = turing_data.sample(frac=1).reset_index(drop=True)\n",
    "\n",
    "turing_data.to_csv('target.csv', index=False)\n",
    "turing_data.drop(columns=['label']).to_csv('turing.csv', index=False)"
   ]
  },
  {
   "cell_type": "markdown",
   "metadata": {},
   "source": [
    "## Evaluate human predictions on Turing Test data"
   ]
  },
  {
   "cell_type": "code",
   "execution_count": 21,
   "metadata": {},
   "outputs": [],
   "source": [
    "def evaluate_turing(target_file, turing_file):\n",
    "    target = pd.read_csv(target_file)\n",
    "    turing = pd.read_csv(turing_file)\n",
    "    combine = pd.merge(target, turing, on='sentence')\n",
    "\n",
    "    # Counts\n",
    "    tp = ((combine['label_x'] == 'h') & (combine['label_y'] == 'h')).sum()\n",
    "    tn = ((combine['label_x'] == 's') & (combine['label_y'] == 's')).sum()\n",
    "    fp = ((combine['label_x'] == 's') & (combine['label_y'] == 'h')).sum()\n",
    "    fn = ((combine['label_x'] == 'h') & (combine['label_y'] == 's')).sum()\n",
    "\n",
    "    # Contingency table\n",
    "    contingency_table = [[tp, fp], [fn, tn]]\n",
    "\n",
    "    # Chi-square test\n",
    "    res = chi2_contingency(contingency_table)\n",
    "    \n",
    "    # Confusion matrix\n",
    "    column_names = ['Actual Human', 'Actual Synthetic']\n",
    "    index_names = ['Predicted Human', 'Predicted Synthetic']\n",
    "    confusion_matrix = pd.DataFrame(contingency_table, columns=column_names, index=index_names)\n",
    "\n",
    "    # Accuracy\n",
    "    accuracy = (tp + tn) / (tp + tn + fp + fn)\n",
    "    \n",
    "    # Precision, recall, F1-score\n",
    "    precision = tp / (tp + fp)\n",
    "    recall = tp / (tp + fn)\n",
    "    f1_score = 2 * (precision * recall) / (precision + recall)\n",
    "\n",
    "    # Print results\n",
    "    print('-------------------------------- Frequency of Labels')\n",
    "    print(turing['label'].value_counts().to_string())\n",
    "    \n",
    "    print('---------------------------------- Confusion Matrix')\n",
    "    print(confusion_matrix)\n",
    "    \n",
    "    print('----------------------------------- Chi-Square Test')\n",
    "    print(f'Chi-square          : {res.statistic:.4f}')\n",
    "    print(f'p-value             : {res.pvalue:.4f}')\n",
    "    print(f'Degrees of freedom  : {res.dof}')\n",
    "    print('Expected frequencies:')\n",
    "    print(res.expected_freq)\n",
    "    \n",
    "    print('--------------------------------------- Performance')\n",
    "    print(f'Accuracy            : {accuracy:.4f}')\n",
    "    print(f'Precision           : {precision:.4f}')\n",
    "    print(f'Recall              : {recall:.4f}')\n",
    "    print(f'F1-score            : {f1_score:.4f}')"
   ]
  },
  {
   "cell_type": "code",
   "execution_count": 22,
   "metadata": {},
   "outputs": [
    {
     "name": "stdout",
     "output_type": "stream",
     "text": [
      "-------------------------------- Frequency of Labels\n",
      "label\n",
      "h    54\n",
      "s    45\n",
      "---------------------------------- Confusion Matrix\n",
      "                     Actual Human  Actual Synthetic\n",
      "Predicted Human                29                25\n",
      "Predicted Synthetic            20                25\n",
      "----------------------------------- Chi-Square Test\n",
      "Chi-square          : 0.5122\n",
      "p-value             : 0.4742\n",
      "Degrees of freedom  : 1\n",
      "Expected frequencies:\n",
      "[[26.72727273 27.27272727]\n",
      " [22.27272727 22.72727273]]\n",
      "--------------------------------------- Performance\n",
      "Accuracy            : 0.5455\n",
      "Precision           : 0.5370\n",
      "Recall              : 0.5918\n",
      "F1-score            : 0.5631\n"
     ]
    }
   ],
   "source": [
    "evaluate_turing('target.csv', 'turing_jf.csv')"
   ]
  },
  {
   "cell_type": "code",
   "execution_count": 23,
   "metadata": {},
   "outputs": [
    {
     "name": "stdout",
     "output_type": "stream",
     "text": [
      "-------------------------------- Frequency of Labels\n",
      "label\n",
      "h    56\n",
      "s    44\n",
      "---------------------------------- Confusion Matrix\n",
      "                     Actual Human  Actual Synthetic\n",
      "Predicted Human                47                 9\n",
      "Predicted Synthetic             3                41\n",
      "----------------------------------- Chi-Square Test\n",
      "Chi-square          : 55.5601\n",
      "p-value             : 0.0000\n",
      "Degrees of freedom  : 1\n",
      "Expected frequencies:\n",
      "[[28. 28.]\n",
      " [22. 22.]]\n",
      "--------------------------------------- Performance\n",
      "Accuracy            : 0.8800\n",
      "Precision           : 0.8393\n",
      "Recall              : 0.9400\n",
      "F1-score            : 0.8868\n"
     ]
    }
   ],
   "source": [
    "evaluate_turing('target.csv', 'turing_cg.csv')"
   ]
  },
  {
   "cell_type": "code",
   "execution_count": 24,
   "metadata": {},
   "outputs": [
    {
     "name": "stdout",
     "output_type": "stream",
     "text": [
      "-------------------------------- Frequency of Labels\n",
      "label\n",
      "h    65\n",
      "s    35\n",
      "---------------------------------- Confusion Matrix\n",
      "                     Actual Human  Actual Synthetic\n",
      "Predicted Human                36                29\n",
      "Predicted Synthetic            14                21\n",
      "----------------------------------- Chi-Square Test\n",
      "Chi-square          : 1.5824\n",
      "p-value             : 0.2084\n",
      "Degrees of freedom  : 1\n",
      "Expected frequencies:\n",
      "[[32.5 32.5]\n",
      " [17.5 17.5]]\n",
      "--------------------------------------- Performance\n",
      "Accuracy            : 0.5700\n",
      "Precision           : 0.5538\n",
      "Recall              : 0.7200\n",
      "F1-score            : 0.6261\n"
     ]
    }
   ],
   "source": [
    "evaluate_turing('target.csv', 'turing_pl.csv')"
   ]
  },
  {
   "cell_type": "code",
   "execution_count": 25,
   "metadata": {},
   "outputs": [
    {
     "name": "stdout",
     "output_type": "stream",
     "text": [
      "-------------------------------- Frequency of Labels\n",
      "label\n",
      "h    65\n",
      "s    35\n",
      "---------------------------------- Confusion Matrix\n",
      "                     Actual Human  Actual Synthetic\n",
      "Predicted Human                40                25\n",
      "Predicted Synthetic            10                25\n",
      "----------------------------------- Chi-Square Test\n",
      "Chi-square          : 8.6154\n",
      "p-value             : 0.0033\n",
      "Degrees of freedom  : 1\n",
      "Expected frequencies:\n",
      "[[32.5 32.5]\n",
      " [17.5 17.5]]\n",
      "--------------------------------------- Performance\n",
      "Accuracy            : 0.6500\n",
      "Precision           : 0.6154\n",
      "Recall              : 0.8000\n",
      "F1-score            : 0.6957\n"
     ]
    }
   ],
   "source": [
    "evaluate_turing('target.csv', 'turing_ms.csv')"
   ]
  },
  {
   "cell_type": "code",
   "execution_count": 26,
   "metadata": {},
   "outputs": [
    {
     "name": "stdout",
     "output_type": "stream",
     "text": [
      "-------------------------------- Frequency of Labels\n",
      "label\n",
      "s    60\n",
      "h    40\n",
      "---------------------------------- Confusion Matrix\n",
      "                     Actual Human  Actual Synthetic\n",
      "Predicted Human                32                 8\n",
      "Predicted Synthetic            18                42\n",
      "----------------------------------- Chi-Square Test\n",
      "Chi-square          : 22.0417\n",
      "p-value             : 0.0000\n",
      "Degrees of freedom  : 1\n",
      "Expected frequencies:\n",
      "[[20. 20.]\n",
      " [30. 30.]]\n",
      "--------------------------------------- Performance\n",
      "Accuracy            : 0.7400\n",
      "Precision           : 0.8000\n",
      "Recall              : 0.6400\n",
      "F1-score            : 0.7111\n"
     ]
    }
   ],
   "source": [
    "evaluate_turing('target.csv', 'turing_mh.csv')"
   ]
  }
 ],
 "metadata": {
  "kernelspec": {
   "display_name": "base",
   "language": "python",
   "name": "python3"
  },
  "language_info": {
   "codemirror_mode": {
    "name": "ipython",
    "version": 3
   },
   "file_extension": ".py",
   "mimetype": "text/x-python",
   "name": "python",
   "nbconvert_exporter": "python",
   "pygments_lexer": "ipython3",
   "version": "3.12.2"
  }
 },
 "nbformat": 4,
 "nbformat_minor": 2
}
