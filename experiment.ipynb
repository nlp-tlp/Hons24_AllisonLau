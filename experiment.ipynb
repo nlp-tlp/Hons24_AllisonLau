{
 "cells": [
  {
   "cell_type": "markdown",
   "metadata": {},
   "source": [
    "## Imports and Load Dictionaries"
   ]
  },
  {
   "cell_type": "code",
   "execution_count": 19,
   "metadata": {},
   "outputs": [
    {
     "name": "stdout",
     "output_type": "stream",
     "text": [
      "49\tpaths in object_property_paths\n",
      "391\tpaths in process_agent_paths\n",
      "269\tpaths in process_patient_paths\n",
      "1208\tpaths in state_patient_paths\n",
      "3\tpaths in object_property_state_paths\n",
      "0\tpaths in object_process_state_paths\n",
      "607\tpaths in state_agent_activity_paths\n",
      "37\tpaths in state_agent_patient_paths\n",
      "1229\tpaths in process_agent_patient_paths\n",
      "Total number of paths: 3793\n"
     ]
    }
   ],
   "source": [
    "import os\n",
    "import re\n",
    "import csv\n",
    "import json\n",
    "import random\n",
    "from openai import OpenAI\n",
    "from dotenv import load_dotenv\n",
    "from llm_generate import get_all_paths, get_samples, get_generate_fewshot, process_mwo_response, BLACKLIST\n",
    "from llm_prompt import initialise_prompts, check_similarity\n",
    "\n",
    "load_dotenv()\n",
    "api_key = os.getenv('API_KEY')\n",
    "client = OpenAI(api_key=api_key)\n",
    "paths_list, paths_dict = get_all_paths(valid=True)"
   ]
  },
  {
   "cell_type": "code",
   "execution_count": 20,
   "metadata": {},
   "outputs": [],
   "source": [
    "def get_prompt(object, event, after):\n",
    "    if not after:\n",
    "        prompt = (\n",
    "            \"Generate 5 different Maintenance Work Order (MWO) sentence describing the following equipment undesirable event.\\n\" \n",
    "            f\"Equipment: {object}\\n\"\n",
    "            f\"Undesirable Event: {event}\\n\"\n",
    "            \"You must use all terms given above and do not add new information.\\n\"\n",
    "            \"Each sentence can have a maximum of 8 words.\\n\"\n",
    "        )\n",
    "    else:\n",
    "        blacklist = [\"'\"+word+\"'\" for word in BLACKLIST]\n",
    "        blacklist = ', '.join(blacklist)\n",
    "        prompt = (\n",
    "        \"Generate 5 different Maintenance Work Order (MWO) sentence describing the following equipment undesirable event.\\n\" \n",
    "        f\"Equipment: {object}\\n\"\n",
    "        f\"Undesirable Event: {event}\\n\"\n",
    "        \"You must use all terms given above and do not add new information.\\n\"\n",
    "        \"Avoid verbosity and use minimal stop words.\\n\"\n",
    "        \"Each sentence can have a maximum of 8 words.\\n\"\n",
    "        f\"Do not use these terms: {blacklist}.\\n\"\n",
    "    )\n",
    "    return prompt\n",
    "\n",
    "def get_fewshot(after=False):\n",
    "    message = [{\"role\": \"system\", \"content\": \"You are a technician recording maintenance work orders.\"}]\n",
    "    with open(\"fewshot_messages/fewshot_generate.csv\", encoding='utf-8') as f:\n",
    "        fewshot_data = csv.reader(f)\n",
    "        next(fewshot_data) # Ignore header\n",
    "        for row in fewshot_data:\n",
    "            object_name = row[0]\n",
    "            event_name = f\"{row[1]} {row[2]}\".strip()\n",
    "            if not after:\n",
    "                prompt = get_prompt(object_name, event_name, after=False)\n",
    "            else:\n",
    "                prompt = get_prompt(object_name, event_name, after=True)            \n",
    "            user = {\"role\": \"user\", \"content\": prompt}\n",
    "            example = f\"1. {row[4]}\\n2. {row[5]}\\n3. {row[6]}\\n4. {row[7]}\\n5. {row[8]}\"\n",
    "            assistant = {\"role\": \"assistant\", \"content\": example}\n",
    "            message.append(user)\n",
    "            message.append(assistant)\n",
    "    return message\n",
    "\n",
    "def generate_mwo(client, object, event, after=False):\n",
    "    prompt = get_prompt(object, event, after)\n",
    "    fewshot = get_fewshot(after)\n",
    "    message = fewshot + [{\"role\": \"user\", \"content\": prompt}]\n",
    "    \n",
    "    response = client.chat.completions.create(\n",
    "                    model=\"gpt-4o-mini\",\n",
    "                    messages=message,\n",
    "                    temperature=0.9,\n",
    "                    top_p=0.9,\n",
    "                    n=1\n",
    "                )\n",
    "    sentences = process_mwo_response(response.choices[0].message.content)\n",
    "    return sentences"
   ]
  },
  {
   "cell_type": "code",
   "execution_count": null,
   "metadata": {},
   "outputs": [],
   "source": [
    "paths = get_samples(paths_dict, num_samples=30)\n",
    "# paths = [{'object_name': 'park brake', 'event_name': 'alarm fault'}]\n",
    "for path in paths:\n",
    "    object = path['object_name']\n",
    "    event = path['event_name']\n",
    "    \n",
    "    # # Generate sentences before fixes\n",
    "    # before_sentences = generate_mwo(client, object, event, after=False)\n",
    "    \n",
    "    # Generate sentences after fixes\n",
    "    after_sentences = generate_mwo(client, object, event, after=True)\n",
    "    \n",
    "    # with open('mwo_sentences/before_synthetic.txt', 'a', encoding='utf-8') as f:\n",
    "    #     for sentence in before_sentences:\n",
    "    #         f.write(sentence+'\\n')\n",
    "    with open('TuringTest/Version2/synthetic_generate_v2.txt', 'a', encoding='utf-8') as f:\n",
    "        sentence = random.choice(after_sentences)\n",
    "        f.write(sentence+'\\n')\n",
    "    "
   ]
  },
  {
   "cell_type": "code",
   "execution_count": 61,
   "metadata": {},
   "outputs": [
    {
     "name": "stdout",
     "output_type": "stream",
     "text": [
      "{'in': 74, 'is': 73, 'a': 68, 'has': 51, 'of': 35, 'the': 20, 'on': 15, 'for': 15, 'to': 15, 'are': 8, 'from': 8, 'there': 7, 'be': 7, 'out': 5, 'with': 4, 'not': 3, 'have': 3, 'and': 2, 'as': 1, 'at': 1, 'being': 1, 'no': 1, 'during': 1, 'it': 1, 'by': 1, 'was': 1}\n",
      "{'in': 55, 'has': 31, 'is': 29, 'from': 28, 'on': 25, 'for': 22, 'out': 18, 'to': 12, 'no': 9, 'not': 6, 'of': 6, 'be': 6, 'a': 5, 'are': 4, 'with': 3, 'have': 3, 'an': 2, 'too': 1, 'was': 1, 'the': 1, 'been': 1, 'am': 1}\n"
     ]
    },
    {
     "name": "stderr",
     "output_type": "stream",
     "text": [
      "[nltk_data] Downloading package stopwords to\n",
      "[nltk_data]     C:\\Users\\allis\\AppData\\Roaming\\nltk_data...\n",
      "[nltk_data]   Package stopwords is already up-to-date!\n"
     ]
    },
    {
     "data": {
      "image/png": "[encoded data removed]",
      "text/plain": [
       "<Figure size 1200x600 with 1 Axes>"
      ]
     },
     "metadata": {},
     "output_type": "display_data"
    },
    {
     "name": "stdout",
     "output_type": "stream",
     "text": [
      "{'detected': 37, 'identified': 4, 'observed': 2}\n",
      "{'application': 4, 'detected': 2}\n",
      "detected 37\n",
      "detected 2\n"
     ]
    }
   ],
   "source": [
    "def read_sentences(file_path):\n",
    "    with open(file_path, 'r', encoding='utf-8') as f:\n",
    "        sentences = f.readlines()\n",
    "    return sentences\n",
    "\n",
    "def word_frequency(sentences):\n",
    "    words = {}\n",
    "    for sentence in sentences:\n",
    "        sentence = re.sub(r'[^\\w\\s]', '', sentence)\n",
    "        for word in sentence.split():\n",
    "            if word in words:\n",
    "                words[word] += 1\n",
    "            else:\n",
    "                words[word] = 1\n",
    "    words = {k: v for k, v in sorted(words.items(), key=lambda item: item[1], reverse=True)}\n",
    "    return words\n",
    "\n",
    "def tokens_analysis(sentences):\n",
    "    # min max avegare number of tokens\n",
    "    num_tokens = []\n",
    "    for sentence in sentences:\n",
    "        num_tokens.append(len(sentence.split()))\n",
    "    min_tokens = min(num_tokens)\n",
    "    max_tokens = max(num_tokens)\n",
    "    avg_tokens = sum(num_tokens) / len(num_tokens)\n",
    "    return min_tokens, max_tokens, avg_tokens\n",
    "\n",
    "v1_sentences = read_sentences('TuringTest/Version1/synthetic_generate_v1.txt')\n",
    "v2_sentences = read_sentences('TuringTest/Version2/synthetic_generate_v2.txt')\n",
    "random.seed(42)\n",
    "v1_sentences = random.sample(v1_sentences, len(v2_sentences)) # Sample same number of sentences from both versions\n",
    "\n",
    "v1_words = word_frequency(v1_sentences)\n",
    "v2_words = word_frequency(v2_sentences)\n",
    "\n",
    "import nltk\n",
    "from nltk.corpus import stopwords\n",
    "import matplotlib.pyplot as plt\n",
    "import numpy as np\n",
    "\n",
    "nltk.download('stopwords')\n",
    "stopwords = set(stopwords.words('english'))\n",
    "\n",
    "v1_stopwords = {k: v for k, v in v1_words.items() if k in stopwords}\n",
    "v2_stopwords = {k: v for k, v in v2_words.items() if k in stopwords}\n",
    "\n",
    "def plot_stopword_frequency(v1, v2):\n",
    "    stopwords = list(set(v1.keys()).intersection(set(v2.keys())))\n",
    "    combined_frequencies = {word: v1[word] + v2[word] for word in stopwords}\n",
    "    top_5_stopwords = sorted(combined_frequencies, key=combined_frequencies.get, reverse=True)[:5]\n",
    "    bar_width = 0.35\n",
    "    indices = np.arange(len(top_5_stopwords))\n",
    "\n",
    "    plt.figure(figsize=(12, 6))\n",
    "    plt.bar(indices, [v1[word] for word in top_5_stopwords], bar_width, color='b', label='Turing Test 1')\n",
    "    plt.bar(indices + bar_width, [v2[word] for word in top_5_stopwords], bar_width, color='r', label='Turing Test 2')\n",
    "    plt.xlabel('Stopwords')\n",
    "    plt.ylabel('Frequency')\n",
    "    plt.title('Stopword Frequency Comparison')\n",
    "    plt.xticks(indices + bar_width / 2, top_5_stopwords, rotation=90)\n",
    "    plt.legend()\n",
    "    plt.tight_layout()\n",
    "    plt.show()\n",
    "\n",
    "print(v1_stopwords)\n",
    "print(v2_stopwords)\n",
    "plot_stopword_frequency(v1_stopwords, v2_stopwords)\n",
    "\n",
    "# Give-away word example 'detected'\n",
    "v1_blacklist = {k: v for k, v in v1_words.items() if k in BLACKLIST}\n",
    "v2_blacklist = {k: v for k, v in v2_words.items() if k in BLACKLIST}\n",
    "print(v1_blacklist)\n",
    "print(v2_blacklist)\n",
    "\n",
    "print('detected', v1_words['detected'])\n",
    "print('detected', v2_words['detected'])"
   ]
  },
  {
   "cell_type": "markdown",
   "metadata": {},
   "source": [
    "## Verbose Experiment"
   ]
  },
  {
   "cell_type": "markdown",
   "metadata": {},
   "source": [
    "## Give-away words Experiment"
   ]
  },
  {
   "cell_type": "markdown",
   "metadata": {},
   "source": [
    "## Prompt Variation Experiment"
   ]
  }
 ],
 "metadata": {
  "kernelspec": {
   "display_name": "base",
   "language": "python",
   "name": "python3"
  },
  "language_info": {
   "codemirror_mode": {
    "name": "ipython",
    "version": 3
   },
   "file_extension": ".py",
   "mimetype": "text/x-python",
   "name": "python",
   "nbconvert_exporter": "python",
   "pygments_lexer": "ipython3",
   "version": "3.12.2"
  }
 },
 "nbformat": 4,
 "nbformat_minor": 2
}
